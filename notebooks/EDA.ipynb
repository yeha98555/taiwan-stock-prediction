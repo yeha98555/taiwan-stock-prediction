{
 "cells": [
  {
   "cell_type": "code",
   "execution_count": 35,
   "metadata": {},
   "outputs": [],
   "source": [
    "import json\n",
    "import pandas as pd\n",
    "import matplotlib.pyplot as plt\n",
    "import seaborn as sns"
   ]
  },
  {
   "cell_type": "markdown",
   "metadata": {},
   "source": [
    "讀取資料"
   ]
  },
  {
   "cell_type": "code",
   "execution_count": 21,
   "metadata": {},
   "outputs": [],
   "source": [
    "with open('../data/output_clean_date_technical.json', 'r') as file:\n",
    "    data = json.load(file)\n",
    "\n",
    "merged_dict = {}\n",
    "\n",
    "for item in data:\n",
    "  if item == \"historicalPriceFull\":\n",
    "    symbol = \"\"\n",
    "    for entry in data[item]:\n",
    "        if \"symbol\" in entry:\n",
    "            symbol = data[item][entry]\n",
    "        else:\n",
    "            df = pd.json_normalize(data[item][entry])\n",
    "            df[\"symbol\"] = symbol\n",
    "  else:\n",
    "     df = pd.json_normalize(data[item])\n",
    "  \n",
    "  merged_dict[item] = df"
   ]
  },
  {
   "cell_type": "code",
   "execution_count": 24,
   "metadata": {},
   "outputs": [
    {
     "data": {
      "text/html": [
       "<div>\n",
       "<style scoped>\n",
       "    .dataframe tbody tr th:only-of-type {\n",
       "        vertical-align: middle;\n",
       "    }\n",
       "\n",
       "    .dataframe tbody tr th {\n",
       "        vertical-align: top;\n",
       "    }\n",
       "\n",
       "    .dataframe thead th {\n",
       "        text-align: right;\n",
       "    }\n",
       "</style>\n",
       "<table border=\"1\" class=\"dataframe\">\n",
       "  <thead>\n",
       "    <tr style=\"text-align: right;\">\n",
       "      <th></th>\n",
       "      <th>date</th>\n",
       "      <th>open</th>\n",
       "      <th>high</th>\n",
       "      <th>low</th>\n",
       "      <th>close</th>\n",
       "      <th>adjClose</th>\n",
       "      <th>volume</th>\n",
       "      <th>unadjustedVolume</th>\n",
       "      <th>change</th>\n",
       "      <th>changePercent</th>\n",
       "      <th>vwap</th>\n",
       "      <th>label</th>\n",
       "      <th>changeOverTime</th>\n",
       "      <th>symbol</th>\n",
       "    </tr>\n",
       "  </thead>\n",
       "  <tbody>\n",
       "    <tr>\n",
       "      <th>0</th>\n",
       "      <td>2024-01-12</td>\n",
       "      <td>33.70</td>\n",
       "      <td>33.80</td>\n",
       "      <td>33.60</td>\n",
       "      <td>33.75</td>\n",
       "      <td>33.750000</td>\n",
       "      <td>5221622</td>\n",
       "      <td>5221622</td>\n",
       "      <td>0.05</td>\n",
       "      <td>0.14837</td>\n",
       "      <td>33.72</td>\n",
       "      <td>January 12, 24</td>\n",
       "      <td>0.001484</td>\n",
       "      <td>1101.TW</td>\n",
       "    </tr>\n",
       "    <tr>\n",
       "      <th>1</th>\n",
       "      <td>2024-01-11</td>\n",
       "      <td>33.70</td>\n",
       "      <td>33.80</td>\n",
       "      <td>33.60</td>\n",
       "      <td>33.70</td>\n",
       "      <td>33.700000</td>\n",
       "      <td>6590499</td>\n",
       "      <td>6590499</td>\n",
       "      <td>0.00</td>\n",
       "      <td>0.00000</td>\n",
       "      <td>33.70</td>\n",
       "      <td>January 11, 24</td>\n",
       "      <td>0.000000</td>\n",
       "      <td>1101.TW</td>\n",
       "    </tr>\n",
       "    <tr>\n",
       "      <th>2</th>\n",
       "      <td>2024-01-10</td>\n",
       "      <td>34.05</td>\n",
       "      <td>34.05</td>\n",
       "      <td>33.70</td>\n",
       "      <td>33.70</td>\n",
       "      <td>33.700000</td>\n",
       "      <td>10231832</td>\n",
       "      <td>10231832</td>\n",
       "      <td>-0.35</td>\n",
       "      <td>-1.03000</td>\n",
       "      <td>33.82</td>\n",
       "      <td>January 10, 24</td>\n",
       "      <td>-0.010300</td>\n",
       "      <td>1101.TW</td>\n",
       "    </tr>\n",
       "    <tr>\n",
       "      <th>3</th>\n",
       "      <td>2024-01-09</td>\n",
       "      <td>34.30</td>\n",
       "      <td>34.30</td>\n",
       "      <td>34.05</td>\n",
       "      <td>34.05</td>\n",
       "      <td>34.050000</td>\n",
       "      <td>6191243</td>\n",
       "      <td>6191243</td>\n",
       "      <td>-0.25</td>\n",
       "      <td>-0.72886</td>\n",
       "      <td>34.13</td>\n",
       "      <td>January 09, 24</td>\n",
       "      <td>-0.007289</td>\n",
       "      <td>1101.TW</td>\n",
       "    </tr>\n",
       "    <tr>\n",
       "      <th>4</th>\n",
       "      <td>2024-01-08</td>\n",
       "      <td>34.40</td>\n",
       "      <td>34.55</td>\n",
       "      <td>34.25</td>\n",
       "      <td>34.25</td>\n",
       "      <td>34.250000</td>\n",
       "      <td>5522713</td>\n",
       "      <td>5522713</td>\n",
       "      <td>-0.15</td>\n",
       "      <td>-0.43605</td>\n",
       "      <td>34.35</td>\n",
       "      <td>January 08, 24</td>\n",
       "      <td>-0.004360</td>\n",
       "      <td>1101.TW</td>\n",
       "    </tr>\n",
       "    <tr>\n",
       "      <th>...</th>\n",
       "      <td>...</td>\n",
       "      <td>...</td>\n",
       "      <td>...</td>\n",
       "      <td>...</td>\n",
       "      <td>...</td>\n",
       "      <td>...</td>\n",
       "      <td>...</td>\n",
       "      <td>...</td>\n",
       "      <td>...</td>\n",
       "      <td>...</td>\n",
       "      <td>...</td>\n",
       "      <td>...</td>\n",
       "      <td>...</td>\n",
       "      <td>...</td>\n",
       "    </tr>\n",
       "    <tr>\n",
       "      <th>731</th>\n",
       "      <td>2021-01-20</td>\n",
       "      <td>37.87</td>\n",
       "      <td>37.91</td>\n",
       "      <td>37.09</td>\n",
       "      <td>37.23</td>\n",
       "      <td>33.397839</td>\n",
       "      <td>38529978</td>\n",
       "      <td>38529978</td>\n",
       "      <td>-0.64</td>\n",
       "      <td>-1.69000</td>\n",
       "      <td>37.41</td>\n",
       "      <td>January 20, 21</td>\n",
       "      <td>-0.016900</td>\n",
       "      <td>1101.TW</td>\n",
       "    </tr>\n",
       "    <tr>\n",
       "      <th>732</th>\n",
       "      <td>2021-01-19</td>\n",
       "      <td>37.82</td>\n",
       "      <td>38.18</td>\n",
       "      <td>37.82</td>\n",
       "      <td>37.96</td>\n",
       "      <td>34.050301</td>\n",
       "      <td>13261660</td>\n",
       "      <td>13261660</td>\n",
       "      <td>0.14</td>\n",
       "      <td>0.37017</td>\n",
       "      <td>37.99</td>\n",
       "      <td>January 19, 21</td>\n",
       "      <td>0.003702</td>\n",
       "      <td>1101.TW</td>\n",
       "    </tr>\n",
       "    <tr>\n",
       "      <th>733</th>\n",
       "      <td>2021-01-18</td>\n",
       "      <td>38.14</td>\n",
       "      <td>38.14</td>\n",
       "      <td>37.64</td>\n",
       "      <td>37.82</td>\n",
       "      <td>33.927963</td>\n",
       "      <td>27598255</td>\n",
       "      <td>27598255</td>\n",
       "      <td>-0.32</td>\n",
       "      <td>-0.83901</td>\n",
       "      <td>37.87</td>\n",
       "      <td>January 18, 21</td>\n",
       "      <td>-0.008390</td>\n",
       "      <td>1101.TW</td>\n",
       "    </tr>\n",
       "    <tr>\n",
       "      <th>734</th>\n",
       "      <td>2021-01-15</td>\n",
       "      <td>38.64</td>\n",
       "      <td>38.64</td>\n",
       "      <td>38.14</td>\n",
       "      <td>38.14</td>\n",
       "      <td>34.213417</td>\n",
       "      <td>33681520</td>\n",
       "      <td>33681520</td>\n",
       "      <td>-0.50</td>\n",
       "      <td>-1.29000</td>\n",
       "      <td>38.31</td>\n",
       "      <td>January 15, 21</td>\n",
       "      <td>-0.012900</td>\n",
       "      <td>1101.TW</td>\n",
       "    </tr>\n",
       "    <tr>\n",
       "      <th>735</th>\n",
       "      <td>2021-01-14</td>\n",
       "      <td>38.91</td>\n",
       "      <td>38.91</td>\n",
       "      <td>38.59</td>\n",
       "      <td>38.68</td>\n",
       "      <td>34.702759</td>\n",
       "      <td>22024250</td>\n",
       "      <td>22024250</td>\n",
       "      <td>-0.23</td>\n",
       "      <td>-0.59111</td>\n",
       "      <td>38.73</td>\n",
       "      <td>January 14, 21</td>\n",
       "      <td>-0.005911</td>\n",
       "      <td>1101.TW</td>\n",
       "    </tr>\n",
       "  </tbody>\n",
       "</table>\n",
       "<p>736 rows × 14 columns</p>\n",
       "</div>"
      ],
      "text/plain": [
       "           date   open   high    low  close   adjClose    volume  \\\n",
       "0    2024-01-12  33.70  33.80  33.60  33.75  33.750000   5221622   \n",
       "1    2024-01-11  33.70  33.80  33.60  33.70  33.700000   6590499   \n",
       "2    2024-01-10  34.05  34.05  33.70  33.70  33.700000  10231832   \n",
       "3    2024-01-09  34.30  34.30  34.05  34.05  34.050000   6191243   \n",
       "4    2024-01-08  34.40  34.55  34.25  34.25  34.250000   5522713   \n",
       "..          ...    ...    ...    ...    ...        ...       ...   \n",
       "731  2021-01-20  37.87  37.91  37.09  37.23  33.397839  38529978   \n",
       "732  2021-01-19  37.82  38.18  37.82  37.96  34.050301  13261660   \n",
       "733  2021-01-18  38.14  38.14  37.64  37.82  33.927963  27598255   \n",
       "734  2021-01-15  38.64  38.64  38.14  38.14  34.213417  33681520   \n",
       "735  2021-01-14  38.91  38.91  38.59  38.68  34.702759  22024250   \n",
       "\n",
       "     unadjustedVolume  change  changePercent   vwap           label  \\\n",
       "0             5221622    0.05        0.14837  33.72  January 12, 24   \n",
       "1             6590499    0.00        0.00000  33.70  January 11, 24   \n",
       "2            10231832   -0.35       -1.03000  33.82  January 10, 24   \n",
       "3             6191243   -0.25       -0.72886  34.13  January 09, 24   \n",
       "4             5522713   -0.15       -0.43605  34.35  January 08, 24   \n",
       "..                ...     ...            ...    ...             ...   \n",
       "731          38529978   -0.64       -1.69000  37.41  January 20, 21   \n",
       "732          13261660    0.14        0.37017  37.99  January 19, 21   \n",
       "733          27598255   -0.32       -0.83901  37.87  January 18, 21   \n",
       "734          33681520   -0.50       -1.29000  38.31  January 15, 21   \n",
       "735          22024250   -0.23       -0.59111  38.73  January 14, 21   \n",
       "\n",
       "     changeOverTime   symbol  \n",
       "0          0.001484  1101.TW  \n",
       "1          0.000000  1101.TW  \n",
       "2         -0.010300  1101.TW  \n",
       "3         -0.007289  1101.TW  \n",
       "4         -0.004360  1101.TW  \n",
       "..              ...      ...  \n",
       "731       -0.016900  1101.TW  \n",
       "732        0.003702  1101.TW  \n",
       "733       -0.008390  1101.TW  \n",
       "734       -0.012900  1101.TW  \n",
       "735       -0.005911  1101.TW  \n",
       "\n",
       "[736 rows x 14 columns]"
      ]
     },
     "execution_count": 24,
     "metadata": {},
     "output_type": "execute_result"
    }
   ],
   "source": [
    "stockprice_df = merged_dict[\"historicalPriceFull\"]\n",
    "stockprice_df"
   ]
  },
  {
   "cell_type": "markdown",
   "metadata": {},
   "source": [
    "---"
   ]
  },
  {
   "cell_type": "markdown",
   "metadata": {},
   "source": [
    "確認資料狀況"
   ]
  },
  {
   "cell_type": "code",
   "execution_count": 25,
   "metadata": {},
   "outputs": [
    {
     "name": "stdout",
     "output_type": "stream",
     "text": [
      "<class 'pandas.core.frame.DataFrame'>\n",
      "RangeIndex: 736 entries, 0 to 735\n",
      "Data columns (total 14 columns):\n",
      " #   Column            Non-Null Count  Dtype  \n",
      "---  ------            --------------  -----  \n",
      " 0   date              736 non-null    object \n",
      " 1   open              736 non-null    float64\n",
      " 2   high              736 non-null    float64\n",
      " 3   low               736 non-null    float64\n",
      " 4   close             736 non-null    float64\n",
      " 5   adjClose          736 non-null    float64\n",
      " 6   volume            736 non-null    int64  \n",
      " 7   unadjustedVolume  736 non-null    int64  \n",
      " 8   change            736 non-null    float64\n",
      " 9   changePercent     736 non-null    float64\n",
      " 10  vwap              736 non-null    float64\n",
      " 11  label             736 non-null    object \n",
      " 12  changeOverTime    736 non-null    float64\n",
      " 13  symbol            736 non-null    object \n",
      "dtypes: float64(9), int64(2), object(3)\n",
      "memory usage: 80.6+ KB\n"
     ]
    }
   ],
   "source": [
    "stockprice_df.info()"
   ]
  },
  {
   "cell_type": "code",
   "execution_count": 26,
   "metadata": {},
   "outputs": [
    {
     "name": "stdout",
     "output_type": "stream",
     "text": [
      "Number of 'label_date != date': 0\n"
     ]
    },
    {
     "name": "stderr",
     "output_type": "stream",
     "text": [
      "/tmp/ipykernel_665124/304800840.py:2: UserWarning: Could not infer format, so each element will be parsed individually, falling back to `dateutil`. To ensure parsing is consistent and as-expected, please specify a format.\n",
      "  stockprice_df['label_date'] = pd.to_datetime(stockprice_df['label'])\n"
     ]
    }
   ],
   "source": [
    "# check date\n",
    "stockprice_df['label_date'] = pd.to_datetime(stockprice_df['label'])\n",
    "stockprice_df['date'] = pd.to_datetime(stockprice_df['date'])\n",
    "print(f\"Number of 'label_date != date': {len(stockprice_df[stockprice_df['label_date'] != stockprice_df['date']])}\")"
   ]
  },
  {
   "cell_type": "code",
   "execution_count": 27,
   "metadata": {},
   "outputs": [
    {
     "name": "stdout",
     "output_type": "stream",
     "text": [
      "Number of NaN:\n",
      "date                0\n",
      "open                0\n",
      "high                0\n",
      "low                 0\n",
      "close               0\n",
      "adjClose            0\n",
      "volume              0\n",
      "unadjustedVolume    0\n",
      "change              0\n",
      "changePercent       0\n",
      "vwap                0\n",
      "label               0\n",
      "changeOverTime      0\n",
      "symbol              0\n",
      "label_date          0\n",
      "dtype: int64\n"
     ]
    }
   ],
   "source": [
    "# check if any columns is NaN\n",
    "print(f\"Number of NaN:\\n{stockprice_df.isna().sum()}\")"
   ]
  },
  {
   "cell_type": "code",
   "execution_count": 28,
   "metadata": {},
   "outputs": [
    {
     "name": "stdout",
     "output_type": "stream",
     "text": [
      "Number of duplicate: 0\n"
     ]
    }
   ],
   "source": [
    "# check if duplicate\n",
    "print(f\"Number of duplicate: {len(stockprice_df[stockprice_df.duplicated()])}\")"
   ]
  },
  {
   "cell_type": "markdown",
   "metadata": {},
   "source": [
    "尋找相關性"
   ]
  },
  {
   "cell_type": "code",
   "execution_count": 30,
   "metadata": {},
   "outputs": [],
   "source": [
    "# 去除不考慮的欄位\n",
    "stockprice_df.drop(columns=['label', 'label_date'], inplace=True)"
   ]
  },
  {
   "cell_type": "code",
   "execution_count": 43,
   "metadata": {},
   "outputs": [
    {
     "name": "stdout",
     "output_type": "stream",
     "text": [
      "close_90d      open      high       low     close  adjClose    volume  \\\n",
      "symbol                                                                  \n",
      "1101.TW    0.538489  0.541924  0.535744  0.539279  0.336895  0.160779   \n",
      "\n",
      "close_90d  unadjustedVolume    change  changePercent      vwap  \\\n",
      "symbol                                                           \n",
      "1101.TW            0.160779  0.030436       0.039478  0.539604   \n",
      "\n",
      "close_90d  changeOverTime  close_90d  \n",
      "symbol                                \n",
      "1101.TW          0.039478        1.0  \n"
     ]
    },
    {
     "name": "stderr",
     "output_type": "stream",
     "text": [
      "/tmp/ipykernel_665124/352484562.py:18: DeprecationWarning: DataFrameGroupBy.apply operated on the grouping columns. This behavior is deprecated, and in a future version of pandas the grouping columns will be excluded from the operation. Either pass `include_groups=False` to exclude the groupings or explicitly select the grouping columns after groupby to silence this warning.\n",
      "  correlation_by_symbol = stockprice_df.groupby('symbol').apply(calculate_correlation)\n"
     ]
    }
   ],
   "source": [
    "# 假設 stockprice_df 已經被讀取並包含所有必要的欄位\n",
    "stockprice_df['date'] = pd.to_datetime(stockprice_df['date'])\n",
    "stockprice_df = stockprice_df.sort_values(['symbol', 'date'])\n",
    "\n",
    "# 創建90天後的收盤價目標變量\n",
    "stockprice_df['close_90d'] = stockprice_df.groupby('symbol')['close'].shift(-90)\n",
    "\n",
    "# 移除close_90d是NaN的行\n",
    "stockprice_df = stockprice_df[stockprice_df['close_90d'].notna()]\n",
    "\n",
    "# 定義計算相關性的函數\n",
    "def calculate_correlation(group):\n",
    "    group.drop(columns=['symbol', 'date'], inplace=True)\n",
    "    correlation_matrix = group.corr()\n",
    "    return correlation_matrix['close_90d']\n",
    "\n",
    "# 對每個股票分組計算相關性\n",
    "correlation_by_symbol = stockprice_df.groupby('symbol').apply(calculate_correlation)\n",
    "print(correlation_by_symbol)"
   ]
  },
  {
   "cell_type": "code",
   "execution_count": 51,
   "metadata": {},
   "outputs": [
    {
     "name": "stdout",
     "output_type": "stream",
     "text": [
      "1101.TW correlation: close_90d\n",
      "open                0.538489\n",
      "high                0.541924\n",
      "low                 0.535744\n",
      "close               0.539279\n",
      "adjClose            0.336895\n",
      "volume              0.160779\n",
      "unadjustedVolume    0.160779\n",
      "change              0.030436\n",
      "changePercent       0.039478\n",
      "vwap                0.539604\n",
      "changeOverTime      0.039478\n",
      "close_90d           1.000000\n",
      "Name: 1101.TW, dtype: float64\n"
     ]
    },
    {
     "data": {
      "image/png": "[encoded data removed]",
      "text/plain": [
       "<Figure size 1200x200 with 2 Axes>"
      ]
     },
     "metadata": {},
     "output_type": "display_data"
    }
   ],
   "source": [
    "symbols = stockprice_df['symbol'].unique()\n",
    "\n",
    "for symbol in symbols:\n",
    "    symbol_corr = correlation_by_symbol.loc[symbol]\n",
    "    print(f\"{symbol} correlation: {symbol_corr}\")\n",
    "    \n",
    "    plt.figure(figsize=(12, 2))\n",
    "    sns.heatmap(correlation_by_symbol, cmap='coolwarm', center=0)\n",
    "    plt.title(f'Correlation Heatmap for {symbol}')\n",
    "    plt.xlabel('Columns')\n",
    "    plt.ylabel('Correlation with 90-day Future Close Price')\n",
    "    plt.show()\n",
    "\n"
   ]
  }
 ],
 "metadata": {
  "kernelspec": {
   "display_name": "test",
   "language": "python",
   "name": "python3"
  },
  "language_info": {
   "codemirror_mode": {
    "name": "ipython",
    "version": 3
   },
   "file_extension": ".py",
   "mimetype": "text/x-python",
   "name": "python",
   "nbconvert_exporter": "python",
   "pygments_lexer": "ipython3",
   "version": "3.10.0"
  }
 },
 "nbformat": 4,
 "nbformat_minor": 2
}
